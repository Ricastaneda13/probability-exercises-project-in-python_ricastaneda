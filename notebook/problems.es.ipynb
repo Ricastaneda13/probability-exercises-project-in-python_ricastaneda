{
 "cells": [
  {
   "cell_type": "markdown",
   "id": "a41f3622",
   "metadata": {},
   "source": [
    "# Ejercicios de probabilidad"
   ]
  },
  {
   "cell_type": "markdown",
   "id": "a6bdbd89",
   "metadata": {},
   "source": [
    "## Ejercicio 1 \n",
    "\n",
    "Dos dados se lanzan una vez y se observa el total obtenido. Usa una simulación para encontrar la probabilidad estimada de que la puntuación sea mayor a 7 o un número par. Una simulación es una repetición del mismo experimento multiples veces para observar su comportamiento:\n",
    "\n",
    "- Ejecuta el experimento 1000 veces (lanza 2 dados 1000 veces, y suma el número de ambos dados).\n",
    "- Lleva ua cuenta de los números y las veces que la suma fue mayor a 7 o un número par.\n",
    "- Divide el número del paso 2 entre el número de iteraciones(1000)."
   ]
  },
  {
   "cell_type": "code",
   "execution_count": 1,
   "id": "8939d892",
   "metadata": {},
   "outputs": [
    {
     "name": "stdout",
     "output_type": "stream",
     "text": [
      "probabilidad estimada: 65.7%\n"
     ]
    }
   ],
   "source": [
    "import random\n",
    "import numpy as np\n",
    "\n",
    "def roll_the_dice(n_simulations = 1000):\n",
    "    count = 0\n",
    "    \n",
    "    # This 'for' loop is now correctly indented\n",
    "    for _ in range(n_simulations):\n",
    "        # All the lines inside the loop must be indented\n",
    "        die1 = random.randint(1, 6)\n",
    "        die2 = random.randint(1, 6)\n",
    "        score = die1 + die2\n",
    "\n",
    "        # The 'if' statement is also inside the loop\n",
    "        if (score > 7) or (score % 2 == 0):\n",
    "            # This line is inside the 'if' statement\n",
    "            count += 1\n",
    "            \n",
    "    # This line is also inside the function, outside the loop\n",
    "    return count / n_simulations\n",
    "\n",
    "# This code is in the main part of your script\n",
    "probabilidad_random = roll_the_dice()\n",
    "print(f\"probabilidad estimada: {np.round(probabilidad_random * 100, 2)}%\")"
   ]
  },
  {
   "cell_type": "markdown",
   "id": "55732bca",
   "metadata": {},
   "source": [
    "## Ejercicio 2\n",
    "\n",
    "Una caja contiene 10 bolas blancas, 20 bolas rojas y 30 bolas verdes. Si tomamos 5 bolas de la caja reemplazándolas (tomando una bola, anotando el color y luego regresandola a la caja). Queremos saber la probabilidad de:\n",
    "\n",
    "1. Tomar 3 blancas y 2 rojas.\n",
    "2. Toas todas del mismo color.\n",
    "\n",
    "Ejecuta el experimento 1000 veces y calcula las probabilidades que mencionadas."
   ]
  },
  {
   "cell_type": "code",
   "execution_count": 1,
   "id": "23244d20",
   "metadata": {},
   "outputs": [
    {
     "name": "stdout",
     "output_type": "stream",
     "text": [
      "Probabilidad de obtener 3 blancas y 2 rojas: 0.6%\n",
      "Probabilidad de que todas sean del mismo color: 4.1%\n"
     ]
    }
   ],
   "source": [
    "import random\n",
    "import numpy as np\n",
    "\n",
    "# Creamos la caja de bolas como un diccionario\n",
    "ball_box = {}\n",
    "for i in range(60):\n",
    "    if i < 10:\n",
    "        ball_box[i] = \"blanca\"\n",
    "    elif (i > 9) and (i < 30):\n",
    "        ball_box[i] = \"roja\"\n",
    "    else:\n",
    "        ball_box[i] = \"verde\"\n",
    "\n",
    "def simulate_draws(n_simulations = 1000):\n",
    "    # Contadores para cada uno de los eventos\n",
    "    count_event1 = 0 # 3 blancas y 2 rojas\n",
    "    count_event2 = 0 # Todas del mismo color\n",
    "\n",
    "    # Bucle principal de la simulación\n",
    "    for _ in range(n_simulations):\n",
    "        draws = []\n",
    "        \n",
    "        # Simula la extracción de 5 bolas con reemplazo\n",
    "        for _ in range(5):\n",
    "            # Tu forma de extraer una bola del diccionario\n",
    "            random_key = random.randint(0, 59)\n",
    "            draws.append(ball_box[random_key])\n",
    "            \n",
    "        # 1. Verificación del Evento 1: 3 blancas y 2 rojas\n",
    "        num_blancas = draws.count('blanca')\n",
    "        num_rojas = draws.count('roja')\n",
    "        if num_blancas == 3 and num_rojas == 2:\n",
    "            count_event1 += 1\n",
    "        \n",
    "        # 2. Verificación del Evento 2: Todas del mismo color\n",
    "        num_blancas = draws.count('blanca')\n",
    "        num_rojas = draws.count('roja')\n",
    "        num_verdes = draws.count('verde')\n",
    "        if num_blancas == 5 or num_rojas == 5 or num_verdes == 5:\n",
    "            count_event2 += 1\n",
    "            \n",
    "    # Calcula las probabilidades\n",
    "    prob_event1 = count_event1 / n_simulations\n",
    "    prob_event2 = count_event2 / n_simulations\n",
    "    \n",
    "    return prob_event1, prob_event2\n",
    "\n",
    "# Llama a la función y obtén los resultados\n",
    "prob_1, prob_2 = simulate_draws()\n",
    "\n",
    "print(f\"Probabilidad de obtener 3 blancas y 2 rojas: {np.round(prob_1 * 100, 2)}%\")\n",
    "print(f\"Probabilidad de que todas sean del mismo color: {np.round(prob_2 * 100, 2)}%\")\n"
   ]
  },
  {
   "cell_type": "code",
   "execution_count": null,
   "id": "fabe979c",
   "metadata": {},
   "outputs": [],
   "source": []
  }
 ],
 "metadata": {
  "kernelspec": {
   "display_name": ".venv (3.11.4)",
   "language": "python",
   "name": "python3"
  },
  "language_info": {
   "codemirror_mode": {
    "name": "ipython",
    "version": 3
   },
   "file_extension": ".py",
   "mimetype": "text/x-python",
   "name": "python",
   "nbconvert_exporter": "python",
   "pygments_lexer": "ipython3",
   "version": "3.11.4"
  }
 },
 "nbformat": 4,
 "nbformat_minor": 5
}
